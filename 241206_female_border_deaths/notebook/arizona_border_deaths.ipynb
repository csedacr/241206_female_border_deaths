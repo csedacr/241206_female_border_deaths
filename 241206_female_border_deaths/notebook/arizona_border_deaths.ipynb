{
 "cells": [
  {
   "cell_type": "code",
   "execution_count": 3,
   "id": "9f58a1dc-f8d9-47bc-a781-50af520599b8",
   "metadata": {},
   "outputs": [],
   "source": [
    "import pandas as pd\n",
    "import matplotlib.pyplot as plt"
   ]
  },
  {
   "cell_type": "code",
   "execution_count": 24,
   "id": "6d28bcaf-f1eb-47b9-8dff-31e4b34275e7",
   "metadata": {},
   "outputs": [
    {
     "data": {
      "text/html": [
       "<div>\n",
       "<style scoped>\n",
       "    .dataframe tbody tr th:only-of-type {\n",
       "        vertical-align: middle;\n",
       "    }\n",
       "\n",
       "    .dataframe tbody tr th {\n",
       "        vertical-align: top;\n",
       "    }\n",
       "\n",
       "    .dataframe thead th {\n",
       "        text-align: right;\n",
       "    }\n",
       "</style>\n",
       "<table border=\"1\" class=\"dataframe\">\n",
       "  <thead>\n",
       "    <tr style=\"text-align: right;\">\n",
       "      <th></th>\n",
       "      <th>ML Number</th>\n",
       "      <th>Name</th>\n",
       "      <th>Sex</th>\n",
       "      <th>Age</th>\n",
       "      <th>Reporting Date</th>\n",
       "      <th>Surface Management</th>\n",
       "      <th>Location</th>\n",
       "      <th>Location Precision</th>\n",
       "      <th>Corridor Code</th>\n",
       "      <th>Corridor</th>\n",
       "      <th>...</th>\n",
       "      <th>OME Determined COD</th>\n",
       "      <th>Condition Code</th>\n",
       "      <th>Body Condition</th>\n",
       "      <th>Post Mortem Interval</th>\n",
       "      <th>State</th>\n",
       "      <th>County</th>\n",
       "      <th>Latitude</th>\n",
       "      <th>Longitude</th>\n",
       "      <th>UTM X</th>\n",
       "      <th>UTM Y</th>\n",
       "    </tr>\n",
       "  </thead>\n",
       "  <tbody>\n",
       "    <tr>\n",
       "      <th>0</th>\n",
       "      <td>00-00097</td>\n",
       "      <td>Unidentified</td>\n",
       "      <td>male</td>\n",
       "      <td>NaN</td>\n",
       "      <td>2000-01-10</td>\n",
       "      <td>Cocopah Indian Reservation</td>\n",
       "      <td>NaN</td>\n",
       "      <td>physical description with directions, distance...</td>\n",
       "      <td>12</td>\n",
       "      <td>Yuma</td>\n",
       "      <td>...</td>\n",
       "      <td>UNDETERMINED - MUMMIFIED AND SKELETAL REMAINS</td>\n",
       "      <td>4.0</td>\n",
       "      <td>Skeletonization w/ mummification</td>\n",
       "      <td>&lt; 5 weeks</td>\n",
       "      <td>Arizona</td>\n",
       "      <td>YUMA</td>\n",
       "      <td>32.589668</td>\n",
       "      <td>-114.799807</td>\n",
       "      <td>143294</td>\n",
       "      <td>3612175</td>\n",
       "    </tr>\n",
       "    <tr>\n",
       "      <th>1</th>\n",
       "      <td>00-00148</td>\n",
       "      <td>Nicolas, Tomas</td>\n",
       "      <td>male</td>\n",
       "      <td>17.0</td>\n",
       "      <td>2000-01-22</td>\n",
       "      <td>State of Arizona</td>\n",
       "      <td>NaN</td>\n",
       "      <td>physical description with directions, distance...</td>\n",
       "      <td>4</td>\n",
       "      <td>Patagonia</td>\n",
       "      <td>...</td>\n",
       "      <td>HYPOTHERMIA</td>\n",
       "      <td>1.0</td>\n",
       "      <td>Fully fleshed</td>\n",
       "      <td>&lt; 1 day</td>\n",
       "      <td>Arizona</td>\n",
       "      <td>PIMA</td>\n",
       "      <td>31.812406</td>\n",
       "      <td>-110.483205</td>\n",
       "      <td>548914</td>\n",
       "      <td>3519758</td>\n",
       "    </tr>\n",
       "    <tr>\n",
       "      <th>2</th>\n",
       "      <td>00-00189</td>\n",
       "      <td>Unidentified</td>\n",
       "      <td>male</td>\n",
       "      <td>NaN</td>\n",
       "      <td>2000-01-20</td>\n",
       "      <td>US Forest Service</td>\n",
       "      <td>NaN</td>\n",
       "      <td>physical description with directions, distance...</td>\n",
       "      <td>5</td>\n",
       "      <td>Nogales</td>\n",
       "      <td>...</td>\n",
       "      <td>UNDETERMINED - SKELETAL REMAINS</td>\n",
       "      <td>7.0</td>\n",
       "      <td>Complete skeletonization w/ bone degradation</td>\n",
       "      <td>&gt; 6-8 months</td>\n",
       "      <td>Arizona</td>\n",
       "      <td>SANTA CRUZ</td>\n",
       "      <td>31.568000</td>\n",
       "      <td>-111.151300</td>\n",
       "      <td>485643</td>\n",
       "      <td>3492563</td>\n",
       "    </tr>\n",
       "    <tr>\n",
       "      <th>3</th>\n",
       "      <td>00-00222</td>\n",
       "      <td>Unidentified</td>\n",
       "      <td>male</td>\n",
       "      <td>NaN</td>\n",
       "      <td>2000-01-10</td>\n",
       "      <td>Private</td>\n",
       "      <td>NaN</td>\n",
       "      <td>physical description with directions, distance...</td>\n",
       "      <td>9</td>\n",
       "      <td>Ajo</td>\n",
       "      <td>...</td>\n",
       "      <td>UNDETERMINED - SKELETAL REMAINS</td>\n",
       "      <td>6.0</td>\n",
       "      <td>Complete skeletonization w/ disarticulation</td>\n",
       "      <td>&lt; 6-8 months</td>\n",
       "      <td>Arizona</td>\n",
       "      <td>PIMA</td>\n",
       "      <td>32.355997</td>\n",
       "      <td>-112.826855</td>\n",
       "      <td>328102</td>\n",
       "      <td>3581363</td>\n",
       "    </tr>\n",
       "    <tr>\n",
       "      <th>4</th>\n",
       "      <td>00-00245</td>\n",
       "      <td>Candia-Bravo, Maria Del Rocio</td>\n",
       "      <td>female</td>\n",
       "      <td>20.0</td>\n",
       "      <td>2000-02-05</td>\n",
       "      <td>Tohono Oodham Nation</td>\n",
       "      <td>NaN</td>\n",
       "      <td>physical description with directions, distance...</td>\n",
       "      <td>7</td>\n",
       "      <td>San Miguel</td>\n",
       "      <td>...</td>\n",
       "      <td>MULTIPLE BLUNT FORCE INJURIES</td>\n",
       "      <td>1.0</td>\n",
       "      <td>Fully fleshed</td>\n",
       "      <td>&lt; 1 day</td>\n",
       "      <td>Arizona</td>\n",
       "      <td>PIMA</td>\n",
       "      <td>31.717790</td>\n",
       "      <td>-111.779830</td>\n",
       "      <td>426116</td>\n",
       "      <td>3509419</td>\n",
       "    </tr>\n",
       "  </tbody>\n",
       "</table>\n",
       "<p>5 rows × 21 columns</p>\n",
       "</div>"
      ],
      "text/plain": [
       "  ML Number                           Name     Sex   Age Reporting Date  \\\n",
       "0  00-00097                   Unidentified    male   NaN     2000-01-10   \n",
       "1  00-00148                 Nicolas, Tomas    male  17.0     2000-01-22   \n",
       "2  00-00189                   Unidentified    male   NaN     2000-01-20   \n",
       "3  00-00222                   Unidentified    male   NaN     2000-01-10   \n",
       "4  00-00245  Candia-Bravo, Maria Del Rocio  female  20.0     2000-02-05   \n",
       "\n",
       "           Surface Management Location  \\\n",
       "0  Cocopah Indian Reservation      NaN   \n",
       "1            State of Arizona      NaN   \n",
       "2           US Forest Service      NaN   \n",
       "3                     Private      NaN   \n",
       "4        Tohono Oodham Nation      NaN   \n",
       "\n",
       "                                  Location Precision  Corridor Code  \\\n",
       "0  physical description with directions, distance...             12   \n",
       "1  physical description with directions, distance...              4   \n",
       "2  physical description with directions, distance...              5   \n",
       "3  physical description with directions, distance...              9   \n",
       "4  physical description with directions, distance...              7   \n",
       "\n",
       "     Corridor  ...                             OME Determined COD  \\\n",
       "0        Yuma  ...  UNDETERMINED - MUMMIFIED AND SKELETAL REMAINS   \n",
       "1   Patagonia  ...                                    HYPOTHERMIA   \n",
       "2     Nogales  ...                UNDETERMINED - SKELETAL REMAINS   \n",
       "3         Ajo  ...                UNDETERMINED - SKELETAL REMAINS   \n",
       "4  San Miguel  ...                  MULTIPLE BLUNT FORCE INJURIES   \n",
       "\n",
       "  Condition Code                                Body Condition  \\\n",
       "0            4.0              Skeletonization w/ mummification   \n",
       "1            1.0                                 Fully fleshed   \n",
       "2            7.0  Complete skeletonization w/ bone degradation   \n",
       "3            6.0   Complete skeletonization w/ disarticulation   \n",
       "4            1.0                                 Fully fleshed   \n",
       "\n",
       "  Post Mortem Interval    State      County   Latitude   Longitude   UTM X  \\\n",
       "0           < 5 weeks   Arizona        YUMA  32.589668 -114.799807  143294   \n",
       "1              < 1 day  Arizona        PIMA  31.812406 -110.483205  548914   \n",
       "2        > 6-8 months   Arizona  SANTA CRUZ  31.568000 -111.151300  485643   \n",
       "3        < 6-8 months   Arizona        PIMA  32.355997 -112.826855  328102   \n",
       "4              < 1 day  Arizona        PIMA  31.717790 -111.779830  426116   \n",
       "\n",
       "     UTM Y  \n",
       "0  3612175  \n",
       "1  3519758  \n",
       "2  3492563  \n",
       "3  3581363  \n",
       "4  3509419  \n",
       "\n",
       "[5 rows x 21 columns]"
      ]
     },
     "execution_count": 24,
     "metadata": {},
     "output_type": "execute_result"
    }
   ],
   "source": [
    "df = pd.read_csv('../data/az_deaths.csv') \n",
    "\n",
    "df.head()\n"
   ]
  },
  {
   "cell_type": "markdown",
   "id": "8efd6f6f-366a-447e-82ce-86aec0aff2d8",
   "metadata": {},
   "source": [
    "Narrow down by the conditions I want to have to see the frequency of female remains found at the border, so I'm only going to extract 'ML Number,' 'Sex,' and  'Reporting Date' "
   ]
  },
  {
   "cell_type": "code",
   "execution_count": 25,
   "id": "b08395bc-0957-46a6-b8d1-ebe0c196b309",
   "metadata": {},
   "outputs": [
    {
     "data": {
      "text/html": [
       "<div>\n",
       "<style scoped>\n",
       "    .dataframe tbody tr th:only-of-type {\n",
       "        vertical-align: middle;\n",
       "    }\n",
       "\n",
       "    .dataframe tbody tr th {\n",
       "        vertical-align: top;\n",
       "    }\n",
       "\n",
       "    .dataframe thead th {\n",
       "        text-align: right;\n",
       "    }\n",
       "</style>\n",
       "<table border=\"1\" class=\"dataframe\">\n",
       "  <thead>\n",
       "    <tr style=\"text-align: right;\">\n",
       "      <th></th>\n",
       "      <th>ML Number</th>\n",
       "      <th>Sex</th>\n",
       "      <th>Reporting Date</th>\n",
       "    </tr>\n",
       "  </thead>\n",
       "  <tbody>\n",
       "    <tr>\n",
       "      <th>0</th>\n",
       "      <td>00-00097</td>\n",
       "      <td>male</td>\n",
       "      <td>2000-01-10</td>\n",
       "    </tr>\n",
       "    <tr>\n",
       "      <th>1</th>\n",
       "      <td>00-00148</td>\n",
       "      <td>male</td>\n",
       "      <td>2000-01-22</td>\n",
       "    </tr>\n",
       "    <tr>\n",
       "      <th>2</th>\n",
       "      <td>00-00189</td>\n",
       "      <td>male</td>\n",
       "      <td>2000-01-20</td>\n",
       "    </tr>\n",
       "    <tr>\n",
       "      <th>3</th>\n",
       "      <td>00-00222</td>\n",
       "      <td>male</td>\n",
       "      <td>2000-01-10</td>\n",
       "    </tr>\n",
       "    <tr>\n",
       "      <th>4</th>\n",
       "      <td>00-00245</td>\n",
       "      <td>female</td>\n",
       "      <td>2000-02-05</td>\n",
       "    </tr>\n",
       "    <tr>\n",
       "      <th>...</th>\n",
       "      <td>...</td>\n",
       "      <td>...</td>\n",
       "      <td>...</td>\n",
       "    </tr>\n",
       "    <tr>\n",
       "      <th>4295</th>\n",
       "      <td>MC94-0426</td>\n",
       "      <td>undetermined</td>\n",
       "      <td>1994-02-09</td>\n",
       "    </tr>\n",
       "    <tr>\n",
       "      <th>4296</th>\n",
       "      <td>MC95-2314</td>\n",
       "      <td>male</td>\n",
       "      <td>1995-08-15</td>\n",
       "    </tr>\n",
       "    <tr>\n",
       "      <th>4297</th>\n",
       "      <td>MC95-2315</td>\n",
       "      <td>male</td>\n",
       "      <td>1995-08-15</td>\n",
       "    </tr>\n",
       "    <tr>\n",
       "      <th>4298</th>\n",
       "      <td>MC96-0604</td>\n",
       "      <td>male</td>\n",
       "      <td>1996-02-27</td>\n",
       "    </tr>\n",
       "    <tr>\n",
       "      <th>4299</th>\n",
       "      <td>MC99-3224</td>\n",
       "      <td>male</td>\n",
       "      <td>1999-11-07</td>\n",
       "    </tr>\n",
       "  </tbody>\n",
       "</table>\n",
       "<p>4300 rows × 3 columns</p>\n",
       "</div>"
      ],
      "text/plain": [
       "      ML Number           Sex Reporting Date\n",
       "0      00-00097          male     2000-01-10\n",
       "1      00-00148          male     2000-01-22\n",
       "2      00-00189          male     2000-01-20\n",
       "3      00-00222          male     2000-01-10\n",
       "4      00-00245        female     2000-02-05\n",
       "...         ...           ...            ...\n",
       "4295  MC94-0426  undetermined     1994-02-09\n",
       "4296  MC95-2314          male     1995-08-15\n",
       "4297  MC95-2315          male     1995-08-15\n",
       "4298  MC96-0604          male     1996-02-27\n",
       "4299  MC99-3224          male     1999-11-07\n",
       "\n",
       "[4300 rows x 3 columns]"
      ]
     },
     "execution_count": 25,
     "metadata": {},
     "output_type": "execute_result"
    }
   ],
   "source": [
    "df = df[['ML Number', 'Sex', 'Reporting Date']]\n",
    "df"
   ]
  },
  {
   "cell_type": "markdown",
   "id": "3cb36baa-bf0d-479e-ba9e-115b7c10219f",
   "metadata": {},
   "source": [
    "Set to date time so the code is read as a date in the graph, then group by 'Reporting Date' column."
   ]
  },
  {
   "cell_type": "code",
   "execution_count": 28,
   "id": "cce651d0-0b36-4a86-8461-5f18e8fc1cac",
   "metadata": {},
   "outputs": [
    {
     "data": {
      "text/plain": [
       "0      2000-01-10\n",
       "1      2000-01-22\n",
       "2      2000-01-20\n",
       "3      2000-01-10\n",
       "4      2000-02-05\n",
       "          ...    \n",
       "4295   1994-02-09\n",
       "4296   1995-08-15\n",
       "4297   1995-08-15\n",
       "4298   1996-02-27\n",
       "4299   1999-11-07\n",
       "Name: Reporting Date, Length: 4300, dtype: datetime64[ns]"
      ]
     },
     "execution_count": 28,
     "metadata": {},
     "output_type": "execute_result"
    }
   ],
   "source": [
    "df['Reporting Date'] = pd.to_datetime(df['Reporting Date'])\n",
    "df['Reporting Date']"
   ]
  },
  {
   "cell_type": "markdown",
   "id": "cd33e7fb-0884-4c95-9d0d-85fbb1f28442",
   "metadata": {},
   "source": [
    "Then I filter by query to narrow by female"
   ]
  },
  {
   "cell_type": "code",
   "execution_count": 29,
   "id": "85aba93d-036e-4bb0-93dc-f7f66c60862b",
   "metadata": {},
   "outputs": [],
   "source": [
    "df_fm = df.query(\"Sex == 'female'\")"
   ]
  },
  {
   "cell_type": "code",
   "execution_count": 30,
   "id": "35b448fb-a1f2-43b3-aeb5-03cfd07dd294",
   "metadata": {},
   "outputs": [
    {
     "data": {
      "text/html": [
       "<div>\n",
       "<style scoped>\n",
       "    .dataframe tbody tr th:only-of-type {\n",
       "        vertical-align: middle;\n",
       "    }\n",
       "\n",
       "    .dataframe tbody tr th {\n",
       "        vertical-align: top;\n",
       "    }\n",
       "\n",
       "    .dataframe thead th {\n",
       "        text-align: right;\n",
       "    }\n",
       "</style>\n",
       "<table border=\"1\" class=\"dataframe\">\n",
       "  <thead>\n",
       "    <tr style=\"text-align: right;\">\n",
       "      <th></th>\n",
       "      <th>ML Number</th>\n",
       "      <th>Sex</th>\n",
       "      <th>Reporting Date</th>\n",
       "    </tr>\n",
       "  </thead>\n",
       "  <tbody>\n",
       "    <tr>\n",
       "      <th>4</th>\n",
       "      <td>00-00245</td>\n",
       "      <td>female</td>\n",
       "      <td>2000-02-05</td>\n",
       "    </tr>\n",
       "    <tr>\n",
       "      <th>5</th>\n",
       "      <td>00-00246</td>\n",
       "      <td>female</td>\n",
       "      <td>2000-02-05</td>\n",
       "    </tr>\n",
       "    <tr>\n",
       "      <th>6</th>\n",
       "      <td>00-00247</td>\n",
       "      <td>female</td>\n",
       "      <td>2000-02-05</td>\n",
       "    </tr>\n",
       "    <tr>\n",
       "      <th>9</th>\n",
       "      <td>00-00401</td>\n",
       "      <td>female</td>\n",
       "      <td>2000-02-29</td>\n",
       "    </tr>\n",
       "    <tr>\n",
       "      <th>22</th>\n",
       "      <td>00-00816</td>\n",
       "      <td>female</td>\n",
       "      <td>2000-05-09</td>\n",
       "    </tr>\n",
       "    <tr>\n",
       "      <th>...</th>\n",
       "      <td>...</td>\n",
       "      <td>...</td>\n",
       "      <td>...</td>\n",
       "    </tr>\n",
       "    <tr>\n",
       "      <th>4101</th>\n",
       "      <td>MC01-3586</td>\n",
       "      <td>female</td>\n",
       "      <td>2001-11-10</td>\n",
       "    </tr>\n",
       "    <tr>\n",
       "      <th>4128</th>\n",
       "      <td>MC04-2805</td>\n",
       "      <td>female</td>\n",
       "      <td>2004-08-08</td>\n",
       "    </tr>\n",
       "    <tr>\n",
       "      <th>4129</th>\n",
       "      <td>MC04-2806</td>\n",
       "      <td>female</td>\n",
       "      <td>2004-08-08</td>\n",
       "    </tr>\n",
       "    <tr>\n",
       "      <th>4154</th>\n",
       "      <td>MC08-4165</td>\n",
       "      <td>female</td>\n",
       "      <td>2008-07-11</td>\n",
       "    </tr>\n",
       "    <tr>\n",
       "      <th>4290</th>\n",
       "      <td>MC82-0945</td>\n",
       "      <td>female</td>\n",
       "      <td>1982-05-14</td>\n",
       "    </tr>\n",
       "  </tbody>\n",
       "</table>\n",
       "<p>605 rows × 3 columns</p>\n",
       "</div>"
      ],
      "text/plain": [
       "      ML Number     Sex Reporting Date\n",
       "4      00-00245  female     2000-02-05\n",
       "5      00-00246  female     2000-02-05\n",
       "6      00-00247  female     2000-02-05\n",
       "9      00-00401  female     2000-02-29\n",
       "22     00-00816  female     2000-05-09\n",
       "...         ...     ...            ...\n",
       "4101  MC01-3586  female     2001-11-10\n",
       "4128  MC04-2805  female     2004-08-08\n",
       "4129  MC04-2806  female     2004-08-08\n",
       "4154  MC08-4165  female     2008-07-11\n",
       "4290  MC82-0945  female     1982-05-14\n",
       "\n",
       "[605 rows x 3 columns]"
      ]
     },
     "execution_count": 30,
     "metadata": {},
     "output_type": "execute_result"
    }
   ],
   "source": [
    "df_fm"
   ]
  },
  {
   "cell_type": "code",
   "execution_count": 41,
   "id": "d90433c8-5e39-437f-a7c8-e5b0118103f3",
   "metadata": {},
   "outputs": [],
   "source": [
    "df_fm.to_csv(\"../output/az_female_deaths.csv\")\n"
   ]
  },
  {
   "cell_type": "code",
   "execution_count": 42,
   "id": "735c1fad-8735-45f7-b170-dbb58f7d2f41",
   "metadata": {},
   "outputs": [
    {
     "data": {
      "text/plain": [
       "pandas.core.frame.DataFrame"
      ]
     },
     "execution_count": 42,
     "metadata": {},
     "output_type": "execute_result"
    }
   ],
   "source": [
    "type(df_fm)"
   ]
  },
  {
   "cell_type": "markdown",
   "id": "42f4b785-a394-4677-b965-fc5412e74b7b",
   "metadata": {},
   "source": [
    "Set to ascending to have it in chronological order and then reset index by date"
   ]
  },
  {
   "cell_type": "code",
   "execution_count": 43,
   "id": "fd37d56e-fd1e-40a9-b067-7cc469ee3df9",
   "metadata": {},
   "outputs": [],
   "source": [
    "df_dates = df_fm.sort_values(by='Reporting Date', ascending = True)"
   ]
  },
  {
   "cell_type": "code",
   "execution_count": 44,
   "id": "9d31fc4e-b941-447f-9b54-1e688d775c0e",
   "metadata": {},
   "outputs": [
    {
     "data": {
      "text/html": [
       "<div>\n",
       "<style scoped>\n",
       "    .dataframe tbody tr th:only-of-type {\n",
       "        vertical-align: middle;\n",
       "    }\n",
       "\n",
       "    .dataframe tbody tr th {\n",
       "        vertical-align: top;\n",
       "    }\n",
       "\n",
       "    .dataframe thead th {\n",
       "        text-align: right;\n",
       "    }\n",
       "</style>\n",
       "<table border=\"1\" class=\"dataframe\">\n",
       "  <thead>\n",
       "    <tr style=\"text-align: right;\">\n",
       "      <th></th>\n",
       "      <th>ML Number</th>\n",
       "      <th>Sex</th>\n",
       "    </tr>\n",
       "    <tr>\n",
       "      <th>Reporting Date</th>\n",
       "      <th></th>\n",
       "      <th></th>\n",
       "    </tr>\n",
       "  </thead>\n",
       "  <tbody>\n",
       "    <tr>\n",
       "      <th>1982-05-14</th>\n",
       "      <td>MC82-0945</td>\n",
       "      <td>female</td>\n",
       "    </tr>\n",
       "    <tr>\n",
       "      <th>1997-02-08</th>\n",
       "      <td>97-00254</td>\n",
       "      <td>female</td>\n",
       "    </tr>\n",
       "    <tr>\n",
       "      <th>1999-01-04</th>\n",
       "      <td>99-00034</td>\n",
       "      <td>female</td>\n",
       "    </tr>\n",
       "    <tr>\n",
       "      <th>2000-02-05</th>\n",
       "      <td>00-00245</td>\n",
       "      <td>female</td>\n",
       "    </tr>\n",
       "    <tr>\n",
       "      <th>2000-02-05</th>\n",
       "      <td>00-00247</td>\n",
       "      <td>female</td>\n",
       "    </tr>\n",
       "  </tbody>\n",
       "</table>\n",
       "</div>"
      ],
      "text/plain": [
       "                ML Number     Sex\n",
       "Reporting Date                   \n",
       "1982-05-14      MC82-0945  female\n",
       "1997-02-08       97-00254  female\n",
       "1999-01-04       99-00034  female\n",
       "2000-02-05       00-00245  female\n",
       "2000-02-05       00-00247  female"
      ]
     },
     "execution_count": 44,
     "metadata": {},
     "output_type": "execute_result"
    }
   ],
   "source": [
    "df_deaths = df_dates.set_index('Reporting Date')\n",
    "df_deaths.head()"
   ]
  },
  {
   "cell_type": "markdown",
   "id": "c4d569f0-60ec-4524-8902-d560e057b41e",
   "metadata": {},
   "source": [
    "Use .resample()[\"ML Number\"].count() to resample your data\n"
   ]
  },
  {
   "cell_type": "code",
   "execution_count": 45,
   "id": "ee52c9ef-e8c7-41b8-b668-07ff92481718",
   "metadata": {},
   "outputs": [
    {
     "data": {
      "text/html": [
       "<div>\n",
       "<style scoped>\n",
       "    .dataframe tbody tr th:only-of-type {\n",
       "        vertical-align: middle;\n",
       "    }\n",
       "\n",
       "    .dataframe tbody tr th {\n",
       "        vertical-align: top;\n",
       "    }\n",
       "\n",
       "    .dataframe thead th {\n",
       "        text-align: right;\n",
       "    }\n",
       "</style>\n",
       "<table border=\"1\" class=\"dataframe\">\n",
       "  <thead>\n",
       "    <tr style=\"text-align: right;\">\n",
       "      <th></th>\n",
       "      <th>ML Number</th>\n",
       "      <th>Sex</th>\n",
       "    </tr>\n",
       "    <tr>\n",
       "      <th>Reporting Date</th>\n",
       "      <th></th>\n",
       "      <th></th>\n",
       "    </tr>\n",
       "  </thead>\n",
       "  <tbody>\n",
       "    <tr>\n",
       "      <th>1982-05-31</th>\n",
       "      <td>1</td>\n",
       "      <td>1</td>\n",
       "    </tr>\n",
       "    <tr>\n",
       "      <th>1982-06-30</th>\n",
       "      <td>0</td>\n",
       "      <td>0</td>\n",
       "    </tr>\n",
       "    <tr>\n",
       "      <th>1982-07-31</th>\n",
       "      <td>0</td>\n",
       "      <td>0</td>\n",
       "    </tr>\n",
       "    <tr>\n",
       "      <th>1982-08-31</th>\n",
       "      <td>0</td>\n",
       "      <td>0</td>\n",
       "    </tr>\n",
       "    <tr>\n",
       "      <th>1982-09-30</th>\n",
       "      <td>0</td>\n",
       "      <td>0</td>\n",
       "    </tr>\n",
       "  </tbody>\n",
       "</table>\n",
       "</div>"
      ],
      "text/plain": [
       "                ML Number  Sex\n",
       "Reporting Date                \n",
       "1982-05-31              1    1\n",
       "1982-06-30              0    0\n",
       "1982-07-31              0    0\n",
       "1982-08-31              0    0\n",
       "1982-09-30              0    0"
      ]
     },
     "execution_count": 45,
     "metadata": {},
     "output_type": "execute_result"
    }
   ],
   "source": [
    "df_resample = df_deaths.resample('ME').count()\n",
    "df_resample.head()"
   ]
  },
  {
   "cell_type": "code",
   "execution_count": 46,
   "id": "8f8a420e-2986-4bf0-ba06-8c2e6097d9bc",
   "metadata": {},
   "outputs": [
    {
     "data": {
      "text/html": [
       "<div>\n",
       "<style scoped>\n",
       "    .dataframe tbody tr th:only-of-type {\n",
       "        vertical-align: middle;\n",
       "    }\n",
       "\n",
       "    .dataframe tbody tr th {\n",
       "        vertical-align: top;\n",
       "    }\n",
       "\n",
       "    .dataframe thead th {\n",
       "        text-align: right;\n",
       "    }\n",
       "</style>\n",
       "<table border=\"1\" class=\"dataframe\">\n",
       "  <thead>\n",
       "    <tr style=\"text-align: right;\">\n",
       "      <th></th>\n",
       "      <th>ML Number</th>\n",
       "      <th>Sex</th>\n",
       "    </tr>\n",
       "    <tr>\n",
       "      <th>Reporting Date</th>\n",
       "      <th></th>\n",
       "      <th></th>\n",
       "    </tr>\n",
       "  </thead>\n",
       "  <tbody>\n",
       "    <tr>\n",
       "      <th>1999-02-28</th>\n",
       "      <td>0</td>\n",
       "      <td>0</td>\n",
       "    </tr>\n",
       "    <tr>\n",
       "      <th>1989-02-28</th>\n",
       "      <td>0</td>\n",
       "      <td>0</td>\n",
       "    </tr>\n",
       "    <tr>\n",
       "      <th>1996-04-30</th>\n",
       "      <td>0</td>\n",
       "      <td>0</td>\n",
       "    </tr>\n",
       "    <tr>\n",
       "      <th>2002-09-30</th>\n",
       "      <td>5</td>\n",
       "      <td>5</td>\n",
       "    </tr>\n",
       "    <tr>\n",
       "      <th>1988-02-29</th>\n",
       "      <td>0</td>\n",
       "      <td>0</td>\n",
       "    </tr>\n",
       "  </tbody>\n",
       "</table>\n",
       "</div>"
      ],
      "text/plain": [
       "                ML Number  Sex\n",
       "Reporting Date                \n",
       "1999-02-28              0    0\n",
       "1989-02-28              0    0\n",
       "1996-04-30              0    0\n",
       "2002-09-30              5    5\n",
       "1988-02-29              0    0"
      ]
     },
     "execution_count": 46,
     "metadata": {},
     "output_type": "execute_result"
    }
   ],
   "source": [
    "df_resample.sample(n=5)"
   ]
  },
  {
   "cell_type": "markdown",
   "id": "7e697078-17a5-4b2d-bbac-15c8b59c4eef",
   "metadata": {},
   "source": [
    "Store it in 'female_deaths' and plot it"
   ]
  },
  {
   "cell_type": "code",
   "execution_count": 47,
   "id": "308ce9a0-019d-4a0f-a251-172e6b8d27b6",
   "metadata": {},
   "outputs": [
    {
     "data": {
      "text/plain": [
       "Reporting Date\n",
       "1982-05-31    1\n",
       "1982-06-30    0\n",
       "1982-07-31    0\n",
       "1982-08-31    0\n",
       "1982-09-30    0\n",
       "Freq: ME, Name: Sex, dtype: int64"
      ]
     },
     "execution_count": 47,
     "metadata": {},
     "output_type": "execute_result"
    }
   ],
   "source": [
    "female_deaths = df_resample['Sex']\n",
    "female_deaths.head()"
   ]
  },
  {
   "cell_type": "code",
   "execution_count": 48,
   "id": "73f56d3a-8447-434e-a03d-ea4ad3a10fd5",
   "metadata": {},
   "outputs": [
    {
     "data": {
      "text/plain": [
       "Text(0, 0.5, 'Remains Found')"
      ]
     },
     "execution_count": 48,
     "metadata": {},
     "output_type": "execute_result"
    },
    {
     "data": {
      "image/png": "[encoded data removed]",
      "text/plain": [
       "<Figure size 640x480 with 1 Axes>"
      ]
     },
     "metadata": {},
     "output_type": "display_data"
    }
   ],
   "source": [
    "fig, ax = plt.subplots()\n",
    "ax.plot(female_deaths)\n",
    "plt.title(\"Number of Female Remains found by Year in the Arizona sector\")\n",
    "plt.xlabel('Year', fontweight='bold')\n",
    "plt.ylabel('Remains Found', fontweight='bold')"
   ]
  },
  {
   "cell_type": "markdown",
   "id": "5beb11bb-95d7-4a8d-a092-9273a86afcd3",
   "metadata": {},
   "source": [
    "Save graph to output folder"
   ]
  },
  {
   "cell_type": "code",
   "execution_count": 51,
   "id": "080b2a86-e84a-45e6-83c2-9643464442ed",
   "metadata": {},
   "outputs": [],
   "source": [
    "fig.savefig('../output/az_female_deaths.jpg', dpi=100, bbox_inches='tight')\n"
   ]
  },
  {
   "cell_type": "code",
   "execution_count": null,
   "id": "2be7d4eb-cede-4282-ad9b-08d68cfd5f01",
   "metadata": {},
   "outputs": [],
   "source": []
  },
  {
   "cell_type": "code",
   "execution_count": null,
   "id": "431af5f0-7d6e-4a15-bbd3-f143387a87c6",
   "metadata": {},
   "outputs": [],
   "source": []
  },
  {
   "cell_type": "code",
   "execution_count": null,
   "id": "7c8b3bcf-3721-47dd-92a1-f7e7e8215782",
   "metadata": {},
   "outputs": [],
   "source": []
  },
  {
   "cell_type": "code",
   "execution_count": null,
   "id": "af09d4a7-0be4-413e-8831-8ef1beeb1a17",
   "metadata": {},
   "outputs": [],
   "source": []
  }
 ],
 "metadata": {
  "kernelspec": {
   "display_name": "Python 3 (ipykernel)",
   "language": "python",
   "name": "python3"
  },
  "language_info": {
   "codemirror_mode": {
    "name": "ipython",
    "version": 3
   },
   "file_extension": ".py",
   "mimetype": "text/x-python",
   "name": "python",
   "nbconvert_exporter": "python",
   "pygments_lexer": "ipython3",
   "version": "3.12.2"
  }
 },
 "nbformat": 4,
 "nbformat_minor": 5
}
